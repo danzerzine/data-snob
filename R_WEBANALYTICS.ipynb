{
  "nbformat": 4,
  "nbformat_minor": 0,
  "metadata": {
    "colab": {
      "name": "R-WEBANALYTICS.ipynb",
      "provenance": [],
      "authorship_tag": "ABX9TyNcP7wuGUunZhyjymMHOG5b",
      "include_colab_link": true
    },
    "kernelspec": {
      "name": "ir",
      "display_name": "R"
    },
    "language_info": {
      "name": "R"
    }
  },
  "cells": [
    {
      "cell_type": "markdown",
      "metadata": {
        "id": "view-in-github",
        "colab_type": "text"
      },
      "source": [
        "<a href=\"https://colab.research.google.com/github/danzerzine/data-snob/blob/master/R_WEBANALYTICS.ipynb\" target=\"_parent\"><img src=\"https://colab.research.google.com/assets/colab-badge.svg\" alt=\"Open In Colab\"/></a>"
      ]
    },
    {
      "cell_type": "code",
      "metadata": {
        "colab": {
          "base_uri": "https://localhost:8080/",
          "height": 442
        },
        "id": "J8RHbqrCGIA4",
        "outputId": "93dc0daf-d040-484d-819a-4360df859cec"
      },
      "source": [
        "sessionInfo()"
      ],
      "execution_count": null,
      "outputs": [
        {
          "output_type": "display_data",
          "data": {
            "text/plain": [
              "R version 4.1.0 (2021-05-18)\n",
              "Platform: x86_64-pc-linux-gnu (64-bit)\n",
              "Running under: Ubuntu 18.04.5 LTS\n",
              "\n",
              "Matrix products: default\n",
              "BLAS:   /usr/lib/x86_64-linux-gnu/openblas/libblas.so.3\n",
              "LAPACK: /usr/lib/x86_64-linux-gnu/libopenblasp-r0.2.20.so\n",
              "\n",
              "locale:\n",
              " [1] LC_CTYPE=en_US.UTF-8       LC_NUMERIC=C              \n",
              " [3] LC_TIME=en_US.UTF-8        LC_COLLATE=en_US.UTF-8    \n",
              " [5] LC_MONETARY=en_US.UTF-8    LC_MESSAGES=en_US.UTF-8   \n",
              " [7] LC_PAPER=en_US.UTF-8       LC_NAME=C                 \n",
              " [9] LC_ADDRESS=C               LC_TELEPHONE=C            \n",
              "[11] LC_MEASUREMENT=en_US.UTF-8 LC_IDENTIFICATION=C       \n",
              "\n",
              "attached base packages:\n",
              "[1] stats     graphics  grDevices utils     datasets  methods   base     \n",
              "\n",
              "loaded via a namespace (and not attached):\n",
              " [1] fansi_0.5.0       digest_0.6.27     utf8_1.2.1        crayon_1.4.1     \n",
              " [5] IRdisplay_1.0     repr_1.1.3        lifecycle_1.0.0   jsonlite_1.7.2   \n",
              " [9] evaluate_0.14     pillar_1.6.1      rlang_0.4.11      uuid_0.1-4       \n",
              "[13] vctrs_0.3.8       ellipsis_0.3.2    IRkernel_1.2      tools_4.1.0      \n",
              "[17] compiler_4.1.0    base64enc_0.1-3   pbdZMQ_0.3-5      htmltools_0.5.1.1"
            ]
          },
          "metadata": {
            "tags": []
          }
        }
      ]
    },
    {
      "cell_type": "code",
      "metadata": {
        "id": "cBKrxV2zGSlY",
        "colab": {
          "base_uri": "https://localhost:8080/"
        },
        "outputId": "63addad4-913c-4123-9391-48791c23918f"
      },
      "source": [
        "options(Ncpus = 8)\n",
        "install.packages(\n",
        "  c(\"data.table\",\n",
        "    \"googleAuthR\",\n",
        "    \"vroom\",\n",
        "    \"googleAnalyticsR\",\n",
        "    \"rym\",\n",
        "    \"RPostgres\",\n",
        "    \"RPostgreSQL\",\n",
        "    \"DBI\",\n",
        "    \"devtools\",\n",
        "    \"readr\",\n",
        "    \"janitor\",\n",
        "    \"hms\",\n",
        "    \"forcats\",\n",
        "    \"RcppRoll\",\n",
        "    \"tibble\",\n",
        "    \"bit64\",\n",
        "    \"gdata\",\n",
        "    \"reticulate\",\n",
        "    \"rdrop2\",\n",
        "    \"rfacebookstat\",\n",
        "    \"rvkstat\"), verbose = T)"
      ],
      "execution_count": 3,
      "outputs": [
        {
          "output_type": "stream",
          "text": [
            "Installing packages into ‘/usr/local/lib/R/site-library’\n",
            "(as ‘lib’ is unspecified)\n",
            "\n",
            "system (cmd0): /usr/lib/R/bin/R CMD INSTALL\n",
            "\n",
            "also installing the dependencies ‘assertive.base’, ‘assertive.properties’, ‘assertive.types’, ‘assertive.numbers’, ‘assertive.strings’, ‘assertive.datetimes’, ‘assertive.files’, ‘assertive.sets’, ‘assertive.matrices’, ‘assertive.models’, ‘assertive.data’, ‘assertive.data.uk’, ‘assertive.data.us’, ‘assertive.reflection’, ‘assertive.code’, ‘tzdb’, ‘measurementProtocol’, ‘plogr’, ‘snakecase’, ‘bit’, ‘gtools’, ‘png’, ‘assertive’, ‘pbapply’, ‘lgr’\n",
            "\n",
            "\n",
            "foundpkgs: assertive.base, assertive.properties, assertive.types, assertive.numbers, assertive.strings, assertive.datetimes, assertive.files, assertive.sets, assertive.matrices, assertive.models, assertive.data, assertive.data.uk, assertive.data.us, assertive.reflection, assertive.code, tzdb, measurementProtocol, plogr, snakecase, bit, gtools, png, assertive, pbapply, lgr, data.table, googleAuthR, vroom, googleAnalyticsR, rym, RPostgres, RPostgreSQL, DBI, devtools, readr, janitor, hms, forcats, RcppRoll, tibble, bit64, gdata, reticulate, rdrop2, rfacebookstat, rvkstat, /tmp/Rtmpspwfoa/downloaded_packages/assertive.base_0.0-9.tar.gz, /tmp/Rtmpspwfoa/downloaded_packages/assertive.properties_0.0-4.tar.gz, /tmp/Rtmpspwfoa/downloaded_packages/assertive.types_0.0-3.tar.gz, /tmp/Rtmpspwfoa/downloaded_packages/assertive.numbers_0.0-2.tar.gz, /tmp/Rtmpspwfoa/downloaded_packages/assertive.strings_0.0-3.tar.gz, /tmp/Rtmpspwfoa/downloaded_packages/assertive.datetimes_0.0-3.tar.gz, /tmp/Rtmpspwfoa/downloaded_packages/assertive.files_0.0-2.tar.gz, /tmp/Rtmpspwfoa/downloaded_packages/assertive.sets_0.0-3.tar.gz, /tmp/Rtmpspwfoa/downloaded_packages/assertive.matrices_0.0-2.tar.gz, /tmp/Rtmpspwfoa/downloaded_packages/assertive.models_0.0-2.tar.gz, /tmp/Rtmpspwfoa/downloaded_packages/assertive.data_0.0-3.tar.gz, /tmp/Rtmpspwfoa/downloaded_packages/assertive.data.uk_0.0-2.tar.gz, /tmp/Rtmpspwfoa/downloaded_packages/assertive.data.us_0.0-2.tar.gz, /tmp/Rtmpspwfoa/downloaded_packages/assertive.reflection_0.0-5.tar.gz, /tmp/Rtmpspwfoa/downloaded_packages/assertive.code_0.0-3.tar.gz, /tmp/Rtmpspwfoa/downloaded_packages/tzdb_0.1.1.tar.gz, /tmp/Rtmpspwfoa/downloaded_packages/measurementProtocol_0.1.0.tar.gz, /tmp/Rtmpspwfoa/downloaded_packages/plogr_0.2.0.tar.gz, /tmp/Rtmpspwfoa/downloaded_packages/snakecase_0.11.0.tar.gz, /tmp/Rtmpspwfoa/downloaded_packages/bit_4.0.4.tar.gz, /tmp/Rtmpspwfoa/downloaded_packages/gtools_3.9.2.tar.gz, /tmp/Rtmpspwfoa/downloaded_packages/png_0.1-7.tar.gz, /tmp/Rtmpspwfoa/downloaded_packages/assertive_0.3-6.tar.gz, /tmp/Rtmpspwfoa/downloaded_packages/pbapply_1.4-3.tar.gz, /tmp/Rtmpspwfoa/downloaded_packages/lgr_0.4.2.tar.gz, /tmp/Rtmpspwfoa/downloaded_packages/data.table_1.14.0.tar.gz, /tmp/Rtmpspwfoa/downloaded_packages/googleAuthR_1.4.0.tar.gz, /tmp/Rtmpspwfoa/downloaded_packages/vroom_1.5.0.tar.gz, /tmp/Rtmpspwfoa/downloaded_packages/googleAnalyticsR_1.0.0.tar.gz, /tmp/Rtmpspwfoa/downloaded_packages/rym_1.0.3.tar.gz, /tmp/Rtmpspwfoa/downloaded_packages/RPostgres_1.3.2.tar.gz, /tmp/Rtmpspwfoa/downloaded_packages/RPostgreSQL_0.6-2.tar.gz, /tmp/Rtmpspwfoa/downloaded_packages/DBI_1.1.1.tar.gz, /tmp/Rtmpspwfoa/downloaded_packages/devtools_2.4.2.tar.gz, /tmp/Rtmpspwfoa/downloaded_packages/readr_1.4.0.tar.gz, /tmp/Rtmpspwfoa/downloaded_packages/janitor_2.1.0.tar.gz, /tmp/Rtmpspwfoa/downloaded_packages/hms_1.1.0.tar.gz, /tmp/Rtmpspwfoa/downloaded_packages/forcats_0.5.1.tar.gz, /tmp/Rtmpspwfoa/downloaded_packages/RcppRoll_0.3.0.tar.gz, /tmp/Rtmpspwfoa/downloaded_packages/tibble_3.1.2.tar.gz, /tmp/Rtmpspwfoa/downloaded_packages/bit64_4.0.5.tar.gz, /tmp/Rtmpspwfoa/downloaded_packages/gdata_2.18.0.tar.gz, /tmp/Rtmpspwfoa/downloaded_packages/reticulate_1.20.tar.gz, /tmp/Rtmpspwfoa/downloaded_packages/rdrop2_0.8.2.1.tar.gz, /tmp/Rtmpspwfoa/downloaded_packages/rfacebookstat_2.3.0.tar.gz, /tmp/Rtmpspwfoa/downloaded_packages/rvkstat_3.0.1.tar.gz\n",
            "\n",
            "files: /tmp/Rtmpspwfoa/downloaded_packages/assertive.base_0.0-9.tar.gz, \n",
            "\t/tmp/Rtmpspwfoa/downloaded_packages/assertive.properties_0.0-4.tar.gz, \n",
            "\t/tmp/Rtmpspwfoa/downloaded_packages/assertive.types_0.0-3.tar.gz, \n",
            "\t/tmp/Rtmpspwfoa/downloaded_packages/assertive.numbers_0.0-2.tar.gz, \n",
            "\t/tmp/Rtmpspwfoa/downloaded_packages/assertive.strings_0.0-3.tar.gz, \n",
            "\t/tmp/Rtmpspwfoa/downloaded_packages/assertive.datetimes_0.0-3.tar.gz, \n",
            "\t/tmp/Rtmpspwfoa/downloaded_packages/assertive.files_0.0-2.tar.gz, \n",
            "\t/tmp/Rtmpspwfoa/downloaded_packages/assertive.sets_0.0-3.tar.gz, \n",
            "\t/tmp/Rtmpspwfoa/downloaded_packages/assertive.matrices_0.0-2.tar.gz, \n",
            "\t/tmp/Rtmpspwfoa/downloaded_packages/assertive.models_0.0-2.tar.gz, \n",
            "\t/tmp/Rtmpspwfoa/downloaded_packages/assertive.data_0.0-3.tar.gz, \n",
            "\t/tmp/Rtmpspwfoa/downloaded_packages/assertive.data.uk_0.0-2.tar.gz, \n",
            "\t/tmp/Rtmpspwfoa/downloaded_packages/assertive.data.us_0.0-2.tar.gz, \n",
            "\t/tmp/Rtmpspwfoa/downloaded_packages/assertive.reflection_0.0-5.tar.gz, \n",
            "\t/tmp/Rtmpspwfoa/downloaded_packages/assertive.code_0.0-3.tar.gz, \n",
            "\t/tmp/Rtmpspwfoa/downloaded_packages/tzdb_0.1.1.tar.gz, \n",
            "\t/tmp/Rtmpspwfoa/downloaded_packages/measurementProtocol_0.1.0.tar.gz, \n",
            "\t/tmp/Rtmpspwfoa/downloaded_packages/plogr_0.2.0.tar.gz, \n",
            "\t/tmp/Rtmpspwfoa/downloaded_packages/snakecase_0.11.0.tar.gz, \n",
            "\t/tmp/Rtmpspwfoa/downloaded_packages/bit_4.0.4.tar.gz, \n",
            "\t/tmp/Rtmpspwfoa/downloaded_packages/gtools_3.9.2.tar.gz, \n",
            "\t/tmp/Rtmpspwfoa/downloaded_packages/png_0.1-7.tar.gz, \n",
            "\t/tmp/Rtmpspwfoa/downloaded_packages/assertive_0.3-6.tar.gz, \n",
            "\t/tmp/Rtmpspwfoa/downloaded_packages/pbapply_1.4-3.tar.gz, \n",
            "\t/tmp/Rtmpspwfoa/downloaded_packages/lgr_0.4.2.tar.gz, \n",
            "\t/tmp/Rtmpspwfoa/downloaded_packages/data.table_1.14.0.tar.gz, \n",
            "\t/tmp/Rtmpspwfoa/downloaded_packages/googleAuthR_1.4.0.tar.gz, \n",
            "\t/tmp/Rtmpspwfoa/downloaded_packages/vroom_1.5.0.tar.gz, \n",
            "\t/tmp/Rtmpspwfoa/downloaded_packages/googleAnalyticsR_1.0.0.tar.gz, \n",
            "\t/tmp/Rtmpspwfoa/downloaded_packages/rym_1.0.3.tar.gz, \n",
            "\t/tmp/Rtmpspwfoa/downloaded_packages/RPostgres_1.3.2.tar.gz, \n",
            "\t/tmp/Rtmpspwfoa/downloaded_packages/RPostgreSQL_0.6-2.tar.gz, \n",
            "\t/tmp/Rtmpspwfoa/downloaded_packages/DBI_1.1.1.tar.gz, \n",
            "\t/tmp/Rtmpspwfoa/downloaded_packages/devtools_2.4.2.tar.gz, \n",
            "\t/tmp/Rtmpspwfoa/downloaded_packages/readr_1.4.0.tar.gz, \n",
            "\t/tmp/Rtmpspwfoa/downloaded_packages/janitor_2.1.0.tar.gz, \n",
            "\t/tmp/Rtmpspwfoa/downloaded_packages/hms_1.1.0.tar.gz, \n",
            "\t/tmp/Rtmpspwfoa/downloaded_packages/forcats_0.5.1.tar.gz, \n",
            "\t/tmp/Rtmpspwfoa/downloaded_packages/RcppRoll_0.3.0.tar.gz, \n",
            "\t/tmp/Rtmpspwfoa/downloaded_packages/tibble_3.1.2.tar.gz, \n",
            "\t/tmp/Rtmpspwfoa/downloaded_packages/bit64_4.0.5.tar.gz, \n",
            "\t/tmp/Rtmpspwfoa/downloaded_packages/gdata_2.18.0.tar.gz, \n",
            "\t/tmp/Rtmpspwfoa/downloaded_packages/reticulate_1.20.tar.gz, \n",
            "\t/tmp/Rtmpspwfoa/downloaded_packages/rdrop2_0.8.2.1.tar.gz, \n",
            "\t/tmp/Rtmpspwfoa/downloaded_packages/rfacebookstat_2.3.0.tar.gz, \n",
            "\t/tmp/Rtmpspwfoa/downloaded_packages/rvkstat_3.0.1.tar.gz\n",
            "\n"
          ],
          "name": "stderr"
        }
      ]
    }
  ]
}